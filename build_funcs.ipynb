{
 "cells": [
  {
   "cell_type": "code",
   "execution_count": 1,
   "id": "5eb8b574-1af4-482a-b300-96b738141842",
   "metadata": {},
   "outputs": [],
   "source": [
    "import numpy as np\n",
    "import pandas as pd\n",
    "from functions import *\n",
    "import re"
   ]
  },
  {
   "cell_type": "code",
   "execution_count": 2,
   "id": "c5c1b3ec-d22b-4cfa-8371-d88fd48cfa00",
   "metadata": {},
   "outputs": [],
   "source": [
    "df = pd.read_csv(\"questions/2024-06-09_Llama.csv\")"
   ]
  },
  {
   "cell_type": "code",
   "execution_count": 3,
   "id": "8320b257-48c9-4165-b284-7c689126b612",
   "metadata": {},
   "outputs": [],
   "source": [
    "list_of_responses = []"
   ]
  },
  {
   "cell_type": "code",
   "execution_count": 4,
   "id": "07dd29ed-2cf6-4876-8a28-31bcda1d7f39",
   "metadata": {},
   "outputs": [
    {
     "name": "stdout",
     "output_type": "stream",
     "text": [
      "<re.Match object; span=(4, 5), match=']'>\n",
      "<re.Match object; span=(0, 1), match=']'>\n",
      "<re.Match object; span=(0, 1), match=']'>\n",
      "<re.Match object; span=(0, 1), match=']'>\n",
      "<re.Match object; span=(0, 1), match=']'>\n",
      "None\n",
      "<re.Match object; span=(47, 48), match='.'>\n",
      "<re.Match object; span=(4, 5), match=']'>\n",
      "<re.Match object; span=(0, 1), match=']'>\n",
      "<re.Match object; span=(4, 5), match=']'>\n",
      "<re.Match object; span=(0, 1), match=']'>\n",
      "<re.Match object; span=(0, 1), match=']'>\n",
      "<re.Match object; span=(33, 34), match=']'>\n"
     ]
    }
   ],
   "source": [
    "for response in df.Response:\n",
    "    response = process_text0(response)\n",
    "    list_of_responses.append(response)"
   ]
  },
  {
   "cell_type": "code",
   "execution_count": null,
   "id": "90ad1f0b-14b4-4bd9-ae16-5553aeeec737",
   "metadata": {},
   "outputs": [],
   "source": []
  },
  {
   "cell_type": "code",
   "execution_count": null,
   "id": "f092fb53-612a-43a1-94c8-458ef63db5a2",
   "metadata": {},
   "outputs": [],
   "source": []
  }
 ],
 "metadata": {
  "kernelspec": {
   "display_name": "Python 3 (ipykernel)",
   "language": "python",
   "name": "python3"
  },
  "language_info": {
   "codemirror_mode": {
    "name": "ipython",
    "version": 3
   },
   "file_extension": ".py",
   "mimetype": "text/x-python",
   "name": "python",
   "nbconvert_exporter": "python",
   "pygments_lexer": "ipython3",
   "version": "3.11.9"
  }
 },
 "nbformat": 4,
 "nbformat_minor": 5
}
