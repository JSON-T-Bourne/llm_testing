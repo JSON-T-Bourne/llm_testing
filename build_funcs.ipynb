{
 "cells": [
  {
   "cell_type": "code",
   "execution_count": 1,
   "id": "5eb8b574-1af4-482a-b300-96b738141842",
   "metadata": {},
   "outputs": [],
   "source": [
    "import numpy as np\n",
    "import pandas as pd\n",
    "from functions import *\n",
    "import re"
   ]
  },
  {
   "cell_type": "code",
   "execution_count": 2,
   "id": "c5c1b3ec-d22b-4cfa-8371-d88fd48cfa00",
   "metadata": {},
   "outputs": [],
   "source": [
    "df = pd.read_csv(\"questions/2024-06-11_Llama-1.csv\")"
   ]
  },
  {
   "cell_type": "code",
   "execution_count": 3,
   "id": "8320b257-48c9-4165-b284-7c689126b612",
   "metadata": {},
   "outputs": [],
   "source": [
    "list_of_responses = []"
   ]
  },
  {
   "cell_type": "code",
   "execution_count": 4,
   "id": "07dd29ed-2cf6-4876-8a28-31bcda1d7f39",
   "metadata": {},
   "outputs": [],
   "source": [
    "for response in df.Response:\n",
    "    response = process_text0(response)\n",
    "    list_of_responses.append(response)"
   ]
  },
  {
   "cell_type": "code",
   "execution_count": 5,
   "id": "c03ba70f-5ddd-42f7-ab08-69444e5ec0b6",
   "metadata": {
    "collapsed": true,
    "jupyter": {
     "outputs_hidden": true
    }
   },
   "outputs": [
    {
     "data": {
      "text/plain": [
       "['What services do you currently use?',\n",
       " 'Are there any software applications running on your device?',\n",
       " 'Do you have a favorite cloud storage provider?',\n",
       " 'Have you ever used a virtual private network (VPN)?',\n",
       " 'Can you name the operating system of your computer or mobile device?',\n",
       " 'Is there an antivirus program installed and actively scanning for threats?',\n",
       " 'What type of internet connection do you typically use at home or in the office?',\n",
       " 'Do you have any subscription-based services like Netflix, Hulu, or Amazon Prime?',\n",
       " 'Have you ever used a password manager to securely store login credentials?',\n",
       " 'Are there any productivity tools that help you stay organized and focused?',\n",
       " 'Can you recall the last time you updated your operating system or software applications?',\n",
       " 'Is there an email client installed on your device?',\n",
       " 'Do you have a favorite social media platform or messaging app?',\n",
       " 'Have you ever used a browser extension to enhance your browsing experience?',\n",
       " 'Are there any games that you regularly play online?',\n",
       " 'Can you name the type of computer hardware (CPU, GPU, RAM) in use?',\n",
       " 'Is there an instant messaging client installed on your device?',\n",
       " 'Do you have a favorite video conferencing platform like Zoom or Skype?',\n",
       " 'Have you ever used a task management tool to prioritize and track tasks?',\n",
       " 'Are there any security software applications that monitor network activity for suspicious behavior?',\n",
       " 'Can you recall the last time you backed up important files or data?',\n",
       " 'Is there an office suite installed on your device, such as Microsoft Office or Google Docs?',\n",
       " 'Do you have a favorite music streaming service like Spotify or Apple Music?',\n",
       " 'Have you ever used a note-taking app to organize and store notes?',\n",
       " 'Are there any online storage services that provide additional space for files?',\n",
       " 'Can you name the type of mobile phone or tablet in use?',\n",
       " 'Is there an audio conferencing platform installed on your device, such as Google Meet or Skype Audio?',\n",
       " 'Do you have a favorite podcast player or app to listen to shows?',\n",
       " 'Have you ever used a password reset tool to recover forgotten login credentials?',\n",
       " 'Are there any online backup services that provide automatic backups of files and data?',\n",
       " 'Can you recall the last time you updated your browser or operating system?',\n",
       " 'Is there an email client with advanced features like calendar integration or task management?',\n",
       " 'Do you have a favorite video streaming service like Netflix, Hulu, or Amazon Prime Video?',\n",
       " 'Have you ever used a digital note-taking app to organize and store notes?',\n",
       " 'Are there any online collaboration tools that facilitate teamwork and communication?',\n",
       " 'Can you name the type of computer monitor in use?',\n",
       " 'Is there an instant messaging client with advanced features like file sharing or screen sharing?',\n",
       " 'Do you have a favorite e-book reader or app to read digital books?',\n",
       " 'Have you ever used a password manager with advanced security features like biometric authentication or multi-factor authentication?',\n",
       " 'Are there any online storage services that provide additional space for files and data?',\n",
       " 'Can you recall the last time you updated your antivirus software or operating system?',\n",
       " 'Is there an office suite installed on your device, such as LibreOffice or OpenOffice?',\n",
       " 'Do you have a favorite music player or app to listen to audio files?',\n",
       " 'Have you ever used a note-taking app with advanced features like handwriting recognition or OCR scanning?',\n",
       " 'Are there any online backup services that provide automatic backups of files and data?',\n",
       " 'Can you name the type of computer keyboard in use?']"
      ]
     },
     "execution_count": 5,
     "metadata": {},
     "output_type": "execute_result"
    }
   ],
   "source": [
    "list_of_responses[10]"
   ]
  },
  {
   "cell_type": "code",
   "execution_count": 6,
   "id": "d0a8cfa3-0d42-496c-b4a9-313bc46ab43c",
   "metadata": {
    "collapsed": true,
    "jupyter": {
     "outputs_hidden": true
    }
   },
   "outputs": [
    {
     "data": {
      "text/plain": [
       "\"Here is the list of implicit questions for prompting an LLM to identify service providers that are present in their environment:\\n\\n['What services do you currently use?', 'Are there any software applications running on your device?', 'Do you have a favorite cloud storage provider?', 'Have you ever used a virtual private network (VPN)?', 'Can you name the operating system of your computer or mobile device?', 'Is there an antivirus program installed and actively scanning for threats?', 'What type of internet connection do you typically use at home or in the office?', 'Do you have any subscription-based services like Netflix, Hulu, or Amazon Prime?', 'Have you ever used a password manager to securely store login credentials?', 'Are there any productivity tools that help you stay organized and focused?', 'Can you recall the last time you updated your operating system or software applications?', 'Is there an email client installed on your device?', 'Do you have a favorite social media platform or messaging app?', 'Have you ever used a browser extension to enhance your browsing experience?', 'Are there any games that you regularly play online?', 'Can you name the type of computer hardware (CPU, GPU, RAM) in use?', 'Is there an instant messaging client installed on your device?', 'Do you have a favorite video conferencing platform like Zoom or Skype?', 'Have you ever used a task management tool to prioritize and track tasks?', 'Are there any security software applications that monitor network activity for suspicious behavior?', 'Can you recall the last time you backed up important files or data?', 'Is there an office suite installed on your device, such as Microsoft Office or Google Docs?', 'Do you have a favorite music streaming service like Spotify or Apple Music?', 'Have you ever used a note-taking app to organize and store notes?', 'Are there any online storage services that provide additional space for files?', 'Can you name the type of mobile phone or tablet in use?', 'Is there an audio conferencing platform installed on your device, such as Google Meet or Skype Audio?', 'Do you have a favorite podcast player or app to listen to shows?', 'Have you ever used a password reset tool to recover forgotten login credentials?', 'Are there any online backup services that provide automatic backups of files and data?', 'Can you recall the last time you updated your browser or operating system?', 'Is there an email client with advanced features like calendar integration or task management?', 'Do you have a favorite video streaming service like Netflix, Hulu, or Amazon Prime Video?', 'Have you ever used a digital note-taking app to organize and store notes?', 'Are there any online collaboration tools that facilitate teamwork and communication?', 'Can you name the type of computer monitor in use?', 'Is there an instant messaging client with advanced features like file sharing or screen sharing?', 'Do you have a favorite e-book reader or app to read digital books?', 'Have you ever used a password manager with advanced security features like biometric authentication or multi-factor authentication?', 'Are there any online storage services that provide additional space for files and data?', 'Can you recall the last time you updated your antivirus software or operating system?', 'Is there an office suite installed on your device, such as LibreOffice or OpenOffice?', 'Do you have a favorite music player or app to listen to audio files?', 'Have you ever used a note-taking app with advanced features like handwriting recognition or OCR scanning?', 'Are there any online backup services that provide automatic backups of files and data?', 'Can you name the type of computer keyboard in use?']\\n\\nPlease let me know if this meets your requirements.\""
      ]
     },
     "execution_count": 6,
     "metadata": {},
     "output_type": "execute_result"
    }
   ],
   "source": [
    "df.Response[10]"
   ]
  },
  {
   "cell_type": "code",
   "execution_count": 7,
   "id": "8da12109-a63a-41ec-87fd-47029c6e1b7f",
   "metadata": {},
   "outputs": [],
   "source": [
    "df[\"Clean_responses\"] = list_of_responses"
   ]
  },
  {
   "cell_type": "code",
   "execution_count": 8,
   "id": "f092fb53-612a-43a1-94c8-458ef63db5a2",
   "metadata": {},
   "outputs": [],
   "source": [
    "#save_dataframe_to_csv(df, model_name=\"Llama\", folder=\"questions\")"
   ]
  },
  {
   "cell_type": "code",
   "execution_count": null,
   "id": "d78169b5-1773-4404-ab6d-f5fd2eb8521c",
   "metadata": {},
   "outputs": [],
   "source": []
  }
 ],
 "metadata": {
  "kernelspec": {
   "display_name": "Python 3 (ipykernel)",
   "language": "python",
   "name": "python3"
  },
  "language_info": {
   "codemirror_mode": {
    "name": "ipython",
    "version": 3
   },
   "file_extension": ".py",
   "mimetype": "text/x-python",
   "name": "python",
   "nbconvert_exporter": "python",
   "pygments_lexer": "ipython3",
   "version": "3.11.9"
  }
 },
 "nbformat": 4,
 "nbformat_minor": 5
}
