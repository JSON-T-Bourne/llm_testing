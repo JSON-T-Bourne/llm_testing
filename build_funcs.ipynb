{
 "cells": [
  {
   "cell_type": "code",
   "execution_count": 1,
   "id": "5eb8b574-1af4-482a-b300-96b738141842",
   "metadata": {},
   "outputs": [],
   "source": [
    "import numpy as np\n",
    "import pandas as pd\n",
    "from functions import *\n",
    "import re"
   ]
  },
  {
   "cell_type": "code",
   "execution_count": 2,
   "id": "c5c1b3ec-d22b-4cfa-8371-d88fd48cfa00",
   "metadata": {},
   "outputs": [],
   "source": [
    "df = pd.read_csv(\"questions/2024-06-09_Llama.csv\")"
   ]
  },
  {
   "cell_type": "code",
   "execution_count": 3,
   "id": "8320b257-48c9-4165-b284-7c689126b612",
   "metadata": {},
   "outputs": [],
   "source": [
    "list_of_responses = []"
   ]
  },
  {
   "cell_type": "code",
   "execution_count": 4,
   "id": "07dd29ed-2cf6-4876-8a28-31bcda1d7f39",
   "metadata": {},
   "outputs": [],
   "source": [
    "for response in df.Response:\n",
    "    response = process_text(response)\n",
    "    list_of_responses.append(response)"
   ]
  },
  {
   "cell_type": "code",
   "execution_count": 9,
   "id": "d6733445-d82a-4111-8762-5676f53a8a2e",
   "metadata": {},
   "outputs": [
    {
     "data": {
      "text/plain": [
       "['What software versions are installed on your machine?',\n",
       " 'Can you provide information about the operating system running on your device?',\n",
       " 'Are there any applications that require specific version numbers to function properly?',\n",
       " 'Do you have multiple instances of a particular program running simultaneously?',\n",
       " 'Is it possible for different users or roles within an organization to use distinct versions of software?',\n",
       " 'What is the typical workflow process in your environment, and do certain steps rely on specific version numbers?',\n",
       " 'Are there any dependencies between applications that require coordination with specific version numbers?',\n",
       " 'Can you describe a scenario where multiple versions of the same application are used concurrently?',\n",
       " 'Do different teams or departments within an organization use distinct software versions for their workloads?',\n",
       " 'Is it common to have older and newer versions of software coexisting in your environment?',\n",
       " 'Are there any specific version numbers that are critical to your workflow, such as a particular compiler or SDK?',\n",
       " 'Can you provide information about the hardware architecture running on your device?',\n",
       " 'Do different environments (e.',\n",
       " 'Is it possible to have multiple versions of an application installed at once due to compatibility issues with other tools?',\n",
       " 'Are there any specific version numbers that are required by regulatory or compliance requirements in your industry?',\n",
       " 'Can you describe a situation where different users need access to different versions of software for their workloads?',\n",
       " 'Do certain applications require specific libraries, frameworks, or dependencies that have version constraints?',\n",
       " 'Is it common to use virtual environments (e.',\n",
       " 'Can you provide information about the programming languages used in your environment?',\n",
       " 'Are there any specific version numbers that are critical to maintaining compatibility between different systems or tools?',\n",
       " 'Do certain applications require specific databases, APIs, or services that have version constraints?',\n",
       " 'Is it possible for users to install custom versions of software on their devices?',\n",
       " 'Can you describe a scenario where multiple teams need access to the same application with distinct version numbers?',\n",
       " 'Are there any specific version numbers that are required by internal policies or guidelines within your organization?',\n",
       " 'Do certain applications require specific operating systems, architectures, or hardware configurations for proper functioning?',\n",
       " 'Is it common to use containerization (e.',\n",
       " 'Can you provide information about the network infrastructure running on your device?',\n",
       " 'Are there any specific version numbers that are critical to maintaining data integrity or security in your environment?',\n",
       " 'Do certain applications require specific protocols, ports, or communication channels that have version constraints?',\n",
       " 'Is it possible for users to create custom workflows using different versions of software?',\n",
       " 'Can you describe a situation where multiple environments (e.',\n",
       " 'Are there any specific version numbers that are required by external partners or vendors in your industry?',\n",
       " 'Do certain applications require specific data formats, schemas, or standards that have version constraints?',\n",
       " 'Is it common to use cloud services (e.',\n",
       " 'Can you provide information about the user roles or permissions within your organization?',\n",
       " 'Are there any specific version numbers that are critical to maintaining system stability or performance in your environment?',\n",
       " 'Do certain applications require specific authentication, authorization, or encryption protocols that have version constraints?',\n",
       " 'Is it possible for users to install software updates or patches with distinct version numbers?',\n",
       " 'Can you describe a scenario where multiple teams need access to the same data source with different versions of software?',\n",
       " 'Are there any specific version numbers that are required by internal stakeholders within your organization?',\n",
       " 'Do certain applications require specific storage, memory, or processing requirements that have version constraints?',\n",
       " 'Is it common to use continuous integration and deployment (CI/CD) pipelines with specific version numbers for automation?',\n",
       " 'Can you provide information about the organizational structure of your team or department?',\n",
       " 'Are there any specific version numbers that are critical to maintaining compliance with industry regulations in your environment?',\n",
       " 'Do certain applications require specific user interfaces, workflows, or interactions that have version constraints?',\n",
       " 'Is it possible for users to create custom dashboards using different versions of software?',\n",
       " 'Can you describe a situation where multiple teams need access to the same infrastructure (e.',\n",
       " 'Are there any specific version numbers that are required by external regulatory bodies in your industry?',\n",
       " 'Do certain applications require specific logging, monitoring, or auditing protocols that have version constraints?']"
      ]
     },
     "execution_count": 9,
     "metadata": {},
     "output_type": "execute_result"
    }
   ],
   "source": [
    "#Need to fix the error still\n",
    "list_of_responses[8]"
   ]
  },
  {
   "cell_type": "code",
   "execution_count": null,
   "id": "7317e928-420f-4a34-96e3-046c2248e0db",
   "metadata": {},
   "outputs": [],
   "source": []
  }
 ],
 "metadata": {
  "kernelspec": {
   "display_name": "Python 3 (ipykernel)",
   "language": "python",
   "name": "python3"
  },
  "language_info": {
   "codemirror_mode": {
    "name": "ipython",
    "version": 3
   },
   "file_extension": ".py",
   "mimetype": "text/x-python",
   "name": "python",
   "nbconvert_exporter": "python",
   "pygments_lexer": "ipython3",
   "version": "3.11.9"
  }
 },
 "nbformat": 4,
 "nbformat_minor": 5
}
